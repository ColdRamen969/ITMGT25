{
 "cells": [
  {
   "cell_type": "markdown",
   "metadata": {},
   "source": [
    "190277, Ang, 2-BSME"
   ]
  },
  {
   "cell_type": "code",
   "execution_count": 2,
   "metadata": {},
   "outputs": [],
   "source": [
    "products = {\n",
    "    \"americano\":{\"name\":\"Americano\",\"price\":150.00},\n",
    "    \"brewedcoffee\":{\"name\":\"Brewed Coffee\",\"price\":110.00},\n",
    "    \"cappuccino\":{\"name\":\"Cappuccino\",\"price\":170.00},\n",
    "    \"dalgona\":{\"name\":\"Dalgona\",\"price\":170.00},\n",
    "    \"espresso\":{\"name\":\"Espresso\",\"price\":140.00},\n",
    "    \"frappuccino\":{\"name\":\"Frappuccino\",\"price\":170.00},\n",
    "}"
   ]
  },
  {
   "cell_type": "markdown",
   "metadata": {},
   "source": [
    "### Product information lookup function\n",
    "Write a function get_product(code) where code is the key of the product information in the products dictionary. The function should return the dictionary containing the specific product information."
   ]
  },
  {
   "cell_type": "code",
   "execution_count": 3,
   "metadata": {},
   "outputs": [
    {
     "name": "stdout",
     "output_type": "stream",
     "text": [
      "Enter product code: espresso\n",
      "{'name': 'Espresso', 'price': 140.0}\n"
     ]
    }
   ],
   "source": [
    "## Answer\n",
    "\n",
    "def get_product(code):\n",
    "    output = products[code]\n",
    "    return output\n",
    "\n",
    "code = input(\"Enter product code: \")\n",
    "print(get_product(code))"
   ]
  },
  {
   "cell_type": "markdown",
   "metadata": {},
   "source": [
    "### Retrieve Product Attributes\n",
    "a. Write one line of code that calls get_product(code) and evaluates to the price of that product."
   ]
  },
  {
   "cell_type": "code",
   "execution_count": 4,
   "metadata": {},
   "outputs": [
    {
     "data": {
      "text/plain": [
       "140.0"
      ]
     },
     "execution_count": 4,
     "metadata": {},
     "output_type": "execute_result"
    }
   ],
   "source": [
    "get_product(code)[\"price\"]"
   ]
  },
  {
   "cell_type": "markdown",
   "metadata": {},
   "source": [
    "b. Write one line of code that calls get_product(code) and evaluates to the name of that product.\n",
    "\n",
    "You may include your one line of code inside a function that returns the name. The function definition and the return statements are excluded from the count."
   ]
  },
  {
   "cell_type": "code",
   "execution_count": 5,
   "metadata": {},
   "outputs": [
    {
     "data": {
      "text/plain": [
       "'Espresso'"
      ]
     },
     "execution_count": 5,
     "metadata": {},
     "output_type": "execute_result"
    }
   ],
   "source": [
    "get_product(code)[\"name\"]"
   ]
  },
  {
   "cell_type": "markdown",
   "metadata": {},
   "source": [
    "### Point of Sale Terminal\n",
    "Write a function main that asks for orders of food from a customer."
   ]
  },
  {
   "cell_type": "code",
   "execution_count": 7,
   "metadata": {},
   "outputs": [
    {
     "name": "stdout",
     "output_type": "stream",
     "text": [
      "Options: N-New customer, Q-Quit n\n",
      "Enter Product Code: cappuccino\n",
      "Enter Quantity: 3\n",
      "cappuccino: 3\n",
      "Add more items? (Y/N): y\n",
      "Enter Product Code: dalgona\n",
      "Enter Quantity: 2\n",
      "dalgona: 2\n",
      "Add more items? (Y/N): y\n",
      "Enter Product Code: brewedcoffee\n",
      "Enter Quantity: 1\n",
      "brewedcoffee: 1\n",
      "Add more items? (Y/N): n\n",
      "--------------------------------------------\n",
      "cappuccino                      3     510.0\n",
      "dalgona                         2     340.0\n",
      "brewedcoffee                    1     110.0\n",
      "\n",
      "Total :                               960.0\n",
      "--------------------------------------------\n",
      "Options: N-New customer, Q-Quit q\n",
      "Exiting CoffeePython POS Terminal. Have a great day.\n"
     ]
    }
   ],
   "source": [
    "def main(code,qty,food_tray):\n",
    "    subtotal = get_product(code)[\"price\"] * qty\n",
    "    return subtotal\n",
    "    \n",
    "food_tray = []\n",
    "totals_list = []\n",
    "command = \"N\"\n",
    "while(True):\n",
    "    command = input(\"Options: N-New customer, Q-Quit \")\n",
    "    if(command.upper()==\"Q\"):\n",
    "        break\n",
    "    \n",
    "    # old code allowed command to work for any letter as long as it wasnt Q, so I restricted it to just N\n",
    "    elif(command.upper()==\"N\"):\n",
    "        more = \"Y\"\n",
    "        while(more==\"Y\"):\n",
    "            code = input(\"Enter Product Code: \")\n",
    "            qty = int(input(\"Enter Quantity: \"))\n",
    "            print(code + \": \"+str(qty))\n",
    "            total = get_product(code)[\"price\"] * qty\n",
    "            more = input(\"Add more items? (Y/N): \").upper()\n",
    "            \n",
    "            d4 = [(\"code\",code),(\"qty\",qty),(\"total\",total)]\n",
    "            d5 = [(total)]\n",
    "            totals_list.extend(d5)\n",
    "            food_tray.append(d4)\n",
    "            subtotal = sum(totals_list)\n",
    "        \n",
    "        print(\"--------------------------------------------\")\n",
    "        \n",
    "        for x in range(len(food_tray)):\n",
    "            print(\"{:<15}{:>18}{:>10}\".format(food_tray[x][0][1],food_tray[x][1][1],food_tray[x][2][1]))\n",
    "        print()\n",
    "        print(\"Total :\",\"{:>35}\".format(subtotal))\n",
    "        print(\"--------------------------------------------\")\n",
    "\n",
    "        food_tray = []\n",
    "        totals_list = []\n",
    "        \n",
    "    # code in case input was neither N nor Q   \n",
    "    else:\n",
    "        print(\"Invalid option, please try again\")\n",
    "        continue\n",
    "        \n",
    "print(\"Exiting CoffeePython POS Terminal. Have a great day.\")"
   ]
  },
  {
   "cell_type": "code",
   "execution_count": null,
   "metadata": {},
   "outputs": [],
   "source": []
  }
 ],
 "metadata": {
  "kernelspec": {
   "display_name": "Python 3",
   "language": "python",
   "name": "python3"
  },
  "language_info": {
   "codemirror_mode": {
    "name": "ipython",
    "version": 3
   },
   "file_extension": ".py",
   "mimetype": "text/x-python",
   "name": "python",
   "nbconvert_exporter": "python",
   "pygments_lexer": "ipython3",
   "version": "3.7.6"
  }
 },
 "nbformat": 4,
 "nbformat_minor": 4
}
