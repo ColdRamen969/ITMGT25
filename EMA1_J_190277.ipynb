{
 "cells": [
  {
   "cell_type": "markdown",
   "metadata": {},
   "source": [
    "**Turning Tables**\n",
    "Write a program that asks for a number of rows in an HTML table and\n",
    "generates a table with alternating light yellow and white rows, starting with\n",
    "light yellow. The first column of the table (i.e. the first set of <td></td> enclosures)\n",
    "shows the row number. The second column displays the square of the row\n",
    "number. The starting row number is 1.\n"
   ]
  },
  {
   "cell_type": "code",
   "execution_count": 10,
   "metadata": {},
   "outputs": [
    {
     "name": "stdout",
     "output_type": "stream",
     "text": [
      "Enter the number of rows: 5\n",
      "<tr class=\"lightyellowrow\"><td>1</td><td>1</td><tr>\n",
      "<tr class=\"whiterow\"><td>2</td><td>4</td><tr>\n",
      "<tr class=\"lightyellowrow\"><td>3</td><td>9</td><tr>\n",
      "<tr class=\"whiterow\"><td>4</td><td>16</td><tr>\n",
      "<tr class=\"lightyellowrow\"><td>5</td><td>25</td><tr>\n"
     ]
    }
   ],
   "source": [
    "x=int(input(\"Enter the number of rows: \"))\n",
    "i=0\n",
    "for i in range(x):\n",
    "    i+=1\n",
    "    y=i**2\n",
    "\n",
    "    if i%2==0:\n",
    "        print('<tr class=\"whiterow\"><td>',i,\"</td><td>\",y,\"</td><tr>\", sep=\"\")\n",
    "    else:\n",
    "        print('<tr class=\"lightyellowrow\"><td>',i,\"</td><td>\",y,\"</td><tr>\", sep=\"\")"
   ]
  },
  {
   "cell_type": "markdown",
   "metadata": {},
   "source": [
    "**Dating Norms.**\n",
    "Write a program that takes in 3 numerical inputs: a day, a month, and a year. The output of\n",
    "the day should follow the ordinal indicator convention "
   ]
  },
  {
   "cell_type": "code",
   "execution_count": 27,
   "metadata": {},
   "outputs": [
    {
     "name": "stdout",
     "output_type": "stream",
     "text": [
      "Day: 10\n",
      "Month: 2\n",
      "Year: 1937\n",
      "It is the 10 th day of the month of Febuary of the year 1937\n"
     ]
    }
   ],
   "source": [
    "day = int(input(\"Day: \"))\n",
    "month = int(input(\"Month: \"))\n",
    "if month>12 or month<1:\n",
    "    print(\"Date is not valid\")\n",
    "elif month==1 or month==3 or month==5 or month==7 or month==8 or month==10 or month==12:\n",
    "    if day<32 and day>0:\n",
    "        year = int(input(\"Year: \"))\n",
    "    elif month==1:\n",
    "        month_name=\"January\"\n",
    "    elif month==3:\n",
    "        month_name=\"March\"\n",
    "    elif month==5:\n",
    "        month_name=\"May\"\n",
    "    elif month==7:\n",
    "        month_name=\"July\"\n",
    "    elif month==8:\n",
    "        month_name=\"August\"\n",
    "    elif month==10:\n",
    "        month_name=\"October\"\n",
    "    elif month==12:\n",
    "        month_name=\"December\"\n",
    "    else:\n",
    "        print(\"Date is not valid\")\n",
    "elif month==4 or month==6 or month==9 or month==11:\n",
    "    if day<31 and day>0:\n",
    "        year = int(input(\"Year: \"))\n",
    "    elif month==4:\n",
    "        month_name=\"April\"\n",
    "    elif month==6:\n",
    "        month_name=\"June\"\n",
    "    elif month==9:\n",
    "        month_name=\"September\"\n",
    "    elif month==11:\n",
    "        month_name=\"November\"\n",
    "    else:\n",
    "        print(\"Date is not valid\")\n",
    "else:\n",
    "    year = int(input(\"Year: \"))\n",
    "    if month==2:\n",
    "        month_name=\"Febuary\"\n",
    "    elif year%4==0:\n",
    "        if day >39 and day<0:\n",
    "            print(\"Date is not valid\")\n",
    "    elif year%4!=0:\n",
    "        if day >28 and day<0:\n",
    "            print(\"Date is not valid\")\n",
    "    else:\n",
    "        print(\"Date is not valid\")\n",
    "print(\"It is the\",day,\"th day of the month of\",month_name, \"of the year\",year)"
   ]
  },
  {
   "cell_type": "markdown",
   "metadata": {},
   "source": [
    "**Followers.** Create a function called ‘obedient’ that would identify whether a number is\n",
    "obedient or not. Display Boolean values for your program’s output."
   ]
  },
  {
   "cell_type": "code",
   "execution_count": 6,
   "metadata": {},
   "outputs": [
    {
     "name": "stdout",
     "output_type": "stream",
     "text": [
      "Obedient: 123\n",
      "True\n"
     ]
    }
   ],
   "source": [
    "x=int(input(\"Obedient: \"))\n",
    "if (x//3) + (x//3-1) + (x//3+1) == x:\n",
    "    print(\"True\")\n",
    "else:\n",
    "    print(\"False\")"
   ]
  },
  {
   "cell_type": "markdown",
   "metadata": {},
   "source": [
    "**Go Forth and Multiply.** Create a function ‘multtable’ that accepts one required parameter size and\n",
    "prints out a size x size multiplication table (without the column and row labels)."
   ]
  },
  {
   "cell_type": "code",
   "execution_count": 3,
   "metadata": {},
   "outputs": [
    {
     "name": "stdout",
     "output_type": "stream",
     "text": [
      "Multtable: 8\n",
      "   1    2    3    4    5    6    7    8\n",
      "   2    4    6    8   10   12   14   16\n",
      "   3    6    9   12   15   18   21   24\n",
      "   4    8   12   16   20   24   28   32\n",
      "   5   10   15   20   25   30   35   40\n",
      "   6   12   18   24   30   36   42   48\n",
      "   7   14   21   28   35   42   49   56\n",
      "   8   16   24   32   40   48   56   64\n"
     ]
    }
   ],
   "source": [
    "x=int(input(\"Multtable: \"))\n",
    "\n",
    "# 0 is a natural number right? but if we input it nothing will come out... so will exclude it from possible input\n",
    "if x>0:\n",
    "    for row in range(1,x+1):\n",
    "        print(*(\"{:>4}\".format(row*col) \n",
    "        for col in range(1, x+1)))\n",
    "else:\n",
    "    print(\"You entered an invalid number\")"
   ]
  },
  {
   "cell_type": "markdown",
   "metadata": {},
   "source": [
    "**Avatar.** Create a buzzfeed-style quiz called “What is your element?”"
   ]
  },
  {
   "cell_type": "code",
   "execution_count": 5,
   "metadata": {},
   "outputs": [
    {
     "name": "stdout",
     "output_type": "stream",
     "text": [
      "Do you prefer (a) the mountains, (b) the city, or (c) the beach? a\n",
      "Do you prefer (a) yoghurt, (b) ice cream, or (c) gelato? b\n",
      "Do you prefer (a) reading, (b) singing, or (c) writing? c\n",
      "Do you prefer (a) sweet, (b) salty, or (c) spicy food? c\n",
      "Do you prefer (a) cats, (b) dogs, or (c) fish? c\n",
      "Your element is water\n"
     ]
    }
   ],
   "source": [
    "earth=0\n",
    "water=0\n",
    "fire=0\n",
    "\n",
    "while(True):\n",
    "    answer=input(\"Do you prefer (a) the mountains, (b) the city, or (c) the beach? \")\n",
    "    if answer==\"a\":\n",
    "        fire+=1\n",
    "    elif answer==\"b\":\n",
    "        earth+=1\n",
    "    elif answer==\"c\":\n",
    "        water+=1\n",
    "    else:\n",
    "        print(\"“Sorry, you inputted a wrong letter. Please start again\")\n",
    "    \n",
    "    answer=input(\"Do you prefer (a) yoghurt, (b) ice cream, or (c) gelato? \")\n",
    "    if answer==\"a\":\n",
    "        fire+=1\n",
    "    elif answer==\"b\":\n",
    "        earth+=1\n",
    "    elif answer==\"c\":\n",
    "        water+=1\n",
    "    else:\n",
    "        print(\"“Sorry, you inputted a wrong letter. Please start again\")\n",
    "        \n",
    "    answer=input(\"Do you prefer (a) reading, (b) singing, or (c) writing? \")\n",
    "    if answer==\"a\":\n",
    "        fire+=1\n",
    "    elif answer==\"b\":\n",
    "        earth+=1\n",
    "    elif answer==\"c\":\n",
    "        water+=1\n",
    "    else:\n",
    "        print(\"“Sorry, you inputted a wrong letter. Please start again\")\n",
    "        \n",
    "    answer=input(\"Do you prefer (a) sweet, (b) salty, or (c) spicy food? \")\n",
    "    if answer==\"a\":\n",
    "        fire+=1\n",
    "    elif answer==\"b\":\n",
    "        earth+=1\n",
    "    elif answer==\"c\":\n",
    "        water+=1\n",
    "    else:\n",
    "        print(\"“Sorry, you inputted a wrong letter. Please start again\")\n",
    "        \n",
    "    answer=input(\"Do you prefer (a) cats, (b) dogs, or (c) fish? \")\n",
    "    if answer==\"a\":\n",
    "        fire+=1\n",
    "        break\n",
    "    elif answer==\"b\":\n",
    "        earth+=1\n",
    "        break\n",
    "    elif answer==\"c\":\n",
    "        water+=1\n",
    "        break\n",
    "    else:\n",
    "        print(\"“Sorry, you inputted a wrong letter. Please start again\")\n",
    "        continue\n",
    "        \n",
    "if water>fire and water>earth:\n",
    "    element=\"water\"\n",
    "elif water>fire and water==earth:\n",
    "    element=\"water\"\n",
    "elif earth>water and earth>fire:\n",
    "    element=\"earth\"\n",
    "elif earth>water and earth==fire:\n",
    "    element=\"earth\"\n",
    "elif fire>water and fire>earth:\n",
    "    element=\"fire\"\n",
    "else:\n",
    "    element=\"fire\"\n",
    "print(\"Your element is\", element)"
   ]
  },
  {
   "cell_type": "code",
   "execution_count": null,
   "metadata": {},
   "outputs": [],
   "source": []
  },
  {
   "cell_type": "code",
   "execution_count": null,
   "metadata": {},
   "outputs": [],
   "source": []
  }
 ],
 "metadata": {
  "kernelspec": {
   "display_name": "Python 3",
   "language": "python",
   "name": "python3"
  },
  "language_info": {
   "codemirror_mode": {
    "name": "ipython",
    "version": 3
   },
   "file_extension": ".py",
   "mimetype": "text/x-python",
   "name": "python",
   "nbconvert_exporter": "python",
   "pygments_lexer": "ipython3",
   "version": "3.7.6"
  }
 },
 "nbformat": 4,
 "nbformat_minor": 4
}
