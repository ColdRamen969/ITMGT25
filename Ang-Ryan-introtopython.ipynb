{
 "cells": [
  {
   "cell_type": "markdown",
   "metadata": {},
   "source": [
    "190277\n",
    "Ang\n",
    "2 BS ME"
   ]
  },
  {
   "cell_type": "markdown",
   "metadata": {},
   "source": [
    "1. Enter first number\n",
    "2. Enter second number\n",
    "3. Enter third number\n",
    "4. Compute for average\n",
    "5. Display average\n",
    "6. Thank the user"
   ]
  },
  {
   "cell_type": "code",
   "execution_count": 3,
   "metadata": {},
   "outputs": [],
   "source": [
    "def three_number_average(N1, N2, N3):\n",
    "    average = (N1+N2+N3)/3\n",
    "    return average"
   ]
  },
  {
   "cell_type": "code",
   "execution_count": 4,
   "metadata": {},
   "outputs": [
    {
     "name": "stdout",
     "output_type": "stream",
     "text": [
      "Enter first number :10\n",
      "Enter second number :20\n",
      "Enter third number :30\n",
      "The average is: 20.0\n",
      "Thank you! Have a good day\n"
     ]
    }
   ],
   "source": [
    "# Enter first number\n",
    "N1 = float(input(\"Enter first number :\"))\n",
    "\n",
    "# Enter second number \n",
    "N2 = float(input(\"Enter second number :\"))\n",
    "\n",
    "# Enter third number\n",
    "N3 = float(input(\"Enter third number :\"))\n",
    "\n",
    "# Compute for average\n",
    "average = three_number_average(N1, N2, N3)\n",
    "\n",
    "# Display average\n",
    "print(\"The average is:\", average)\n",
    "\n",
    "# Thank the user\n",
    "print(\"Thank you! Have a good day\")"
   ]
  },
  {
   "cell_type": "code",
   "execution_count": null,
   "metadata": {},
   "outputs": [],
   "source": []
  }
 ],
 "metadata": {
  "kernelspec": {
   "display_name": "Python 3",
   "language": "python",
   "name": "python3"
  },
  "language_info": {
   "codemirror_mode": {
    "name": "ipython",
    "version": 3
   },
   "file_extension": ".py",
   "mimetype": "text/x-python",
   "name": "python",
   "nbconvert_exporter": "python",
   "pygments_lexer": "ipython3",
   "version": "3.7.6"
  }
 },
 "nbformat": 4,
 "nbformat_minor": 4
}
