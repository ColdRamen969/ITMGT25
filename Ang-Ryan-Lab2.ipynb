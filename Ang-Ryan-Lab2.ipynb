{
 "cells": [
  {
   "cell_type": "markdown",
   "metadata": {},
   "source": [
    "## Rectangle"
   ]
  },
  {
   "cell_type": "code",
   "execution_count": 1,
   "metadata": {
    "scrolled": true
   },
   "outputs": [
    {
     "name": "stdout",
     "output_type": "stream",
     "text": [
      "Enter height: 5\n",
      "Enter width: 20\n",
      "********************\n",
      "********************\n",
      "********************\n",
      "********************\n",
      "********************\n"
     ]
    }
   ],
   "source": [
    "# GRADED FUNCTION\n",
    "def print_rectangle(width, height):\n",
    "\n",
    "    i = 0\n",
    "\n",
    "    while(i < height):\n",
    "        j = 0\n",
    "        while(j < width):\n",
    "            print(\"*\", end=\"\")\n",
    "            j += 1\n",
    "        print()\n",
    "        i += 1\n",
    "    \n",
    "height = int(input(\"Enter height: \"))\n",
    "width = int(input(\"Enter width: \"))\n",
    "print_rectangle(width, height)"
   ]
  },
  {
   "cell_type": "markdown",
   "metadata": {},
   "source": [
    "## Hollow Rectangle"
   ]
  },
  {
   "cell_type": "code",
   "execution_count": 2,
   "metadata": {},
   "outputs": [
    {
     "name": "stdout",
     "output_type": "stream",
     "text": [
      "Enter height: 5\n",
      "Enter width: 20\n",
      "********************\n",
      "*                  *\n",
      "*                  *\n",
      "*                  *\n",
      "********************\n"
     ]
    }
   ],
   "source": [
    "# GRADED FUNCTION\n",
    "def print_hollow_rectangle(width, height):\n",
    "   \n",
    "    for i in range(1,width+1):\n",
    "        for j in range(1, height+1):\n",
    "            if (i == 1 or i == width or\n",
    "                j == 1 or j == height) : \n",
    "                print(\"*\", end=\"\")             \n",
    "            else : \n",
    "                print(\" \", end=\"\")             \n",
    "          \n",
    "        print() \n",
    "    \n",
    "height = int(input(\"Enter height: \"))\n",
    "width = int(input(\"Enter width: \"))\n",
    "print_hollow_rectangle(height, width) "
   ]
  },
  {
   "cell_type": "markdown",
   "metadata": {},
   "source": [
    "\n",
    "## Caesar Cipher"
   ]
  },
  {
   "cell_type": "code",
   "execution_count": 3,
   "metadata": {},
   "outputs": [
    {
     "name": "stdout",
     "output_type": "stream",
     "text": [
      "Enter Message: ABC\n",
      "How many moves? 3\n",
      "DEF"
     ]
    }
   ],
   "source": [
    "def caesar_encrypt(message, shift):\n",
    "    return output\n",
    "\n",
    "message = input(\"Enter Message: \")\n",
    "if message.isalpha() and message.isupper():\n",
    "    shift = int(input(\"How many moves? \"))\n",
    "\n",
    "    num = list(message)\n",
    "\n",
    "    a=0\n",
    "    while a < len(message):\n",
    "        order = ord(num[a])\n",
    "        a+=1\n",
    "\n",
    "        maxi = order + shift\n",
    "        \n",
    "        if maxi > 90:\n",
    "            limit = maxi - 26\n",
    "            output = chr(limit)\n",
    "        elif maxi < 90:\n",
    "            output = chr(maxi)\n",
    "\n",
    "        print(output, end = \"\")\n",
    "\n",
    "else:\n",
    "    print(\"Only capital letters are allowed\")"
   ]
  },
  {
   "cell_type": "markdown",
   "metadata": {},
   "source": [
    "## Vigenere Cipher"
   ]
  },
  {
   "cell_type": "code",
   "execution_count": 4,
   "metadata": {},
   "outputs": [
    {
     "name": "stdout",
     "output_type": "stream",
     "text": [
      "Enter message: ABC\n",
      "Enter key: KEY\n",
      "KFA\n"
     ]
    }
   ],
   "source": [
    "def vigenere_encrypt(message, keyword):\n",
    "    return output\n",
    "\n",
    "message = input(\"Enter message: \")\n",
    "if message.isalpha() and message.isupper():\n",
    "    keyword = input(\"Enter key: \")\n",
    "    if keyword.isalpha() and keyword.isupper():\n",
    "    \n",
    "        Message = []\n",
    "        Keyword = []\n",
    "        maxim = []\n",
    "        limit = []\n",
    "\n",
    "        list(message)\n",
    "        list(keyword)\n",
    "        for i in range(0,len(message)):\n",
    "            Message.append(ord(message[i])-65)\n",
    "        for i in range(0,len(keyword)):\n",
    "            Keyword.append(ord(keyword[i])-65)\n",
    "        for i in range(0,len(Message)):\n",
    "            maxim.append(Message[i]+Keyword[i])\n",
    "        for i in range(0,len(maxim)):\n",
    "            if (maxim[i]) > 25:\n",
    "                maxim[i] = maxim[i]-26\n",
    "            limit.append(chr(maxim[i]+65))\n",
    "\n",
    "        output = \"\".join(list(limit))\n",
    "        \n",
    "        print(output)\n",
    "    \n",
    "    else:\n",
    "        print(\"Only capital letters are allowed\")\n",
    "else:\n",
    "    print(\"Only capital letters are allowed\")"
   ]
  },
  {
   "cell_type": "markdown",
   "metadata": {},
   "source": [
    "## Contact Tracing\n",
    "Write a function that takes an initial infected person as its first parameter and a list of movements as its second parameter. The function should return the final list of infected."
   ]
  },
  {
   "cell_type": "code",
   "execution_count": 1,
   "metadata": {},
   "outputs": [],
   "source": [
    "# SETUP. DO NOT EDIT THESE LINES.\n",
    "sample_initial_infected_person = 'C'\n",
    "sample_movement_list = ['LMcSEDJfZAqbWRUgYeurIdtzKoihOxBmkQjFlpvNwXyPnCasGHVT',\n",
    "                         'ihpSPvorENDadfcyjnqlmgHWxTCKGIUkeOZzMJXYsuAwVbLRQBFt',\n",
    "                         'qepTuMENGwDztARCImQhiJXfnWbcaVvyrLsZjdYKSFBHPoxglOkU']\n",
    "# END OF SETUP.\n",
    "\n",
    "\n",
    "# GRADED FUNCTION\n",
    "def trace(initial_infected_person, movement_list):\n",
    "    \n",
    "    # initial empty lists to later append \n",
    "    final_list_of_infected = []\n",
    "    infected_list=[]\n",
    "    \n",
    "    # adding initial infected person to the infected list\n",
    "    infected_list.append(initial_infected_person)\n",
    "    for i in movement_list:\n",
    "        infect = ''.join(infected_list)\n",
    "        \n",
    "        # spreading infection\n",
    "        for char in infect:\n",
    "            position = i.find(char)\n",
    "            if position == 0:\n",
    "                infected_list.append(i[position+1])\n",
    "            elif position == len(i) - 1 :\n",
    "                infected_list.append(i[position-1])\n",
    "            else:\n",
    "                infected_list.append(i[position+1])\n",
    "                infected_list.append(i[position-1])\n",
    "        \n",
    "    final_list_of_infected = (infected_list)\n",
    "    \n",
    "    return final_list_of_infected"
   ]
  },
  {
   "cell_type": "code",
   "execution_count": 2,
   "metadata": {},
   "outputs": [
    {
     "data": {
      "text/plain": [
       "['a', 's', 'C']"
      ]
     },
     "execution_count": 2,
     "metadata": {},
     "output_type": "execute_result"
    }
   ],
   "source": [
    "trace(\"a\",['LMcSEDJfZAqbWRUgYeurIdtzKoihOxBmkQjFlpvNwXyPnCasGHVT'])"
   ]
  },
  {
   "cell_type": "code",
   "execution_count": null,
   "metadata": {},
   "outputs": [],
   "source": []
  }
 ],
 "metadata": {
  "kernelspec": {
   "display_name": "Python 3",
   "language": "python",
   "name": "python3"
  },
  "language_info": {
   "codemirror_mode": {
    "name": "ipython",
    "version": 3
   },
   "file_extension": ".py",
   "mimetype": "text/x-python",
   "name": "python",
   "nbconvert_exporter": "python",
   "pygments_lexer": "ipython3",
   "version": "3.7.6"
  }
 },
 "nbformat": 4,
 "nbformat_minor": 4
}
