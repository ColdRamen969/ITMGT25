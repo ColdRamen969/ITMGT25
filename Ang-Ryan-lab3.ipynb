{
 "cells": [
  {
   "cell_type": "markdown",
   "metadata": {},
   "source": [
    "190277\n",
    "Ang\n",
    "2 BS ME"
   ]
  },
  {
   "cell_type": "markdown",
   "metadata": {},
   "source": [
    "## Social Meda Example\n",
    "Write a function relationship_status(from_member, to_member) that determines if two members are friends, or if the first person follows or is followed by the second person."
   ]
  },
  {
   "cell_type": "code",
   "execution_count": 50,
   "metadata": {},
   "outputs": [],
   "source": [
    "social_graph = {\n",
    "    \"@bongolpoc\":{\"first_name\":\"Joselito\",\n",
    "                  \"last_name\":\"Olpoc\",\n",
    "                  \"following\":[],\n",
    "    },\n",
    "    \"@joaquin\":  {\"first_name\":\"Joaquin\",\n",
    "                  \"last_name\":\"Gonzales\",\n",
    "                  \"following\":[\"@chums\",\"@jobenilagan\"],\n",
    "    },\n",
    "    \"@chums\" : {\"first_name\":\"Matthew\",\n",
    "                \"last_name\":\"Uy\",\n",
    "                \"following\":[\"@bongolpoc\",\"@miketan\",\"@rudyang\",\"@joeilagan\"],\n",
    "    },\n",
    "    \"@jobenilagan\":{\"first_name\":\"Joben\",\n",
    "                   \"last_name\":\"Ilagan\",\n",
    "                   \"following\":[\"@eeebeee\",\"@joeilagan\",\"@chums\",\"@joaquin\"],\n",
    "    },\n",
    "    \"@joeilagan\":{\"first_name\":\"Joe\",\n",
    "                  \"last_name\":\"Ilagan\",\n",
    "                  \"following\":[\"@eeebeee\",\"@jobenilagan\",\"@chums\"],\n",
    "    },\n",
    "    \"@eeebeee\":  {\"first_name\":\"Elizabeth\",\n",
    "                  \"last_name\":\"Ilagan\",\n",
    "                  \"following\":[\"@jobenilagan\",\"@joeilagan\"],\n",
    "    },\n",
    "}"
   ]
  },
  {
   "cell_type": "code",
   "execution_count": 62,
   "metadata": {},
   "outputs": [],
   "source": [
    "def relationship_status(from_member, to_member):\n",
    "    # mutual follow\n",
    "    if from_member in social_graph[to_member][\"following\"] and to_member in social_graph[from_member][\"following\"]:\n",
    "        return \"friends\"\n",
    "    \n",
    "    # 1st follows 2nd\n",
    "    if from_member in social_graph[to_member][\"following\"]:\n",
    "        return \"follows\"\n",
    "        \n",
    "    # 2nd follows first\n",
    "    if to_member in social_graph[from_member][\"following\"]:\n",
    "        return \"followed by\"\n",
    "    \n",
    "    # mutual no follow\n",
    "    else: \n",
    "        return \"none\""
   ]
  },
  {
   "cell_type": "code",
   "execution_count": 60,
   "metadata": {},
   "outputs": [
    {
     "name": "stdout",
     "output_type": "stream",
     "text": [
      "From: @eeebeee\n",
      "To: @chums\n",
      "none\n"
     ]
    }
   ],
   "source": [
    "try:\n",
    "    from_member = input(\"From: \")\n",
    "    to_member = input(\"To: \")\n",
    "    print(relationship_status(from_member,to_member))\n",
    "    \n",
    "except:\n",
    "    print(\"Invalid input\")"
   ]
  },
  {
   "cell_type": "markdown",
   "metadata": {},
   "source": [
    "## Tic Tac Toe\n",
    "Write code that checks a possible winner for the current state of a 3x3 tic-tac-toe board."
   ]
  },
  {
   "cell_type": "code",
   "execution_count": 67,
   "metadata": {},
   "outputs": [],
   "source": [
    "board1 = [\n",
    "['X','X','O'],\n",
    "['O','X','O'],\n",
    "['O','','X'],\n",
    "]\n",
    "\n",
    "board2 = [\n",
    "['X','X','O'],\n",
    "['O','X','O'],\n",
    "['','O','X'],\n",
    "]\n",
    "\n",
    "board3 = [\n",
    "['O','X','O'],\n",
    "['','O','X'],\n",
    "['X','X','O'],\n",
    "]\n",
    "\n",
    "board4 = [\n",
    "['X','X','X'],\n",
    "['O','X','O'],\n",
    "['O','','O'],\n",
    "]\n",
    "\n",
    "board5 = [\n",
    "['X','X','O'],\n",
    "['O','X','O'],\n",
    "['X','','O'],\n",
    "]\n",
    "\n",
    "board6 = [\n",
    "['X','X','O'],\n",
    "['O','X','O'],\n",
    "['X','',''],\n",
    "]"
   ]
  },
  {
   "cell_type": "code",
   "execution_count": 70,
   "metadata": {},
   "outputs": [],
   "source": [
    "def get_winner(board):\n",
    "    for r in range(0,2):\n",
    "        if all({z == 'X' for z in board[r]}):\n",
    "            winner = 'X'\n",
    "            return winner\n",
    "        \n",
    "# vertical check\n",
    "    else:\n",
    "        for r in range(0, 3):\n",
    "            if r == 0:\n",
    "                for c in range (0,3):\n",
    "                    if board[r+1][c]== 'X' and board[r+2][c] == 'X' and board[r][c] == 'X':   \n",
    "                        winner = 'X'\n",
    "                        return winner\n",
    "            elif r == 1:\n",
    "                for c in range (0,3):\n",
    "                    if board [r - 1][c] == 'X' and board[r + 1][c] == 'X' and board[r][c] == 'X':\n",
    "                        winner = 'X'\n",
    "                        return winner\n",
    "            elif r == 2:\n",
    "                for c in range (0,3):\n",
    "                    if board[r- 1][c]== 'X' and board[r- 2][c] == 'X'and board[r][c] == 'X':\n",
    "                        winner = 'X'\n",
    "                        return winner\n",
    "# diagonal check\n",
    "    r , c = 1 , 1\n",
    "    if board[r+1][c+1]== 'X' and board[r-1][c-1] == 'X' and board[r][c] == 'X': \n",
    "        winner = 'X'\n",
    "        return winner\n",
    "    elif board[r-1][c+1]== 'X' and board[r+1][c-1] == 'X'and board[r][c] == 'X':\n",
    "        winner = 'X'\n",
    "        return winner\n",
    "    \n",
    "# horizontal check           \n",
    "    for r in range(0,2):\n",
    "        if all({z == 'O' for z in board[r]}):\n",
    "            winner = 'O'\n",
    "            return winner \n",
    "        \n",
    "# vertical check\n",
    "    else:\n",
    "        for r in range( 0, 3):\n",
    "            if r == 0:\n",
    "                for c in range (0,3):\n",
    "                    if board[r+1][c]== 'O' and board[r+2][c] == 'O'and board[r][c] == 'O':    \n",
    "                        winner = 'O'\n",
    "                        return winner\n",
    "            elif r == 1:\n",
    "                for c in range (0,3):\n",
    "                    if board[r + 1][c]== 'O' and board[r - 1][c] == 'O'and board[r][c] == 'O':\n",
    "                        winner = 'O'\n",
    "                        return winner\n",
    "            elif r == 2:\n",
    "                for c in range (0,3):\n",
    "                    if board[r-2][c]== 'O' and board[r-1][c] == 'O'and board[r][c] == 'O':\n",
    "                        winner = 'O'\n",
    "                        return winner\n",
    "# diagonal check\n",
    "    r , c = 1 , 1\n",
    "    if board[r+1][c+1]== 'O' and board[r-1][c-1] == 'O' and board[r][c] == 'O': \n",
    "        winner = 'O'\n",
    "        return winner\n",
    "    elif board[r-1][c+1]== 'O' and board[r+1][c-1] == 'O'and board[r][c] == 'O':\n",
    "        winner = 'O'\n",
    "        return winner"
   ]
  },
  {
   "cell_type": "code",
   "execution_count": 78,
   "metadata": {},
   "outputs": [
    {
     "name": "stdout",
     "output_type": "stream",
     "text": [
      "Enter Board Number: 8\n",
      "Invalid board number\n"
     ]
    }
   ],
   "source": [
    "# I later realized that I could've just used 'set' to make all of this shorter but I already typed up about 80% \n",
    "# of this before I realized so, yeah. Guess I'll pay more attention next time\n",
    "try:   \n",
    "    board = int(input(\"Enter Board Number: \"))\n",
    "    if board < 1 or board > 6:\n",
    "        print(\"Invalid board number\")\n",
    "        pass\n",
    "    elif board == 1:\n",
    "        winner = get_winner(board1)\n",
    "        print(\"The winner is\" , winner)\n",
    "    elif board == 2:\n",
    "        winner = get_winner(board2)\n",
    "        print(\"The winner is\" , winner)\n",
    "    elif board == 3:\n",
    "        winner = get_winner(board3)\n",
    "        print(\"The winner is\" , winner)\n",
    "    elif board == 4:\n",
    "        winner = get_winner(board4)\n",
    "        print(\"The winner is\" , winner)\n",
    "    elif board == 5:\n",
    "        winner = get_winner(board5)\n",
    "        print(\"The winner is\" , winner)\n",
    "    elif board == 6:\n",
    "        winner = get_winner(board6)\n",
    "        print(\"The winner is\" , winner)\n",
    "    \n",
    "except:\n",
    "    print(\"Invalid input\")"
   ]
  },
  {
   "cell_type": "markdown",
   "metadata": {},
   "source": [
    "## Shuttle Service\n",
    "Write a function called eta that accepts the source and destination of the van and returns the estimated number of minutes to reach the destination."
   ]
  },
  {
   "cell_type": "code",
   "execution_count": 10,
   "metadata": {},
   "outputs": [],
   "source": [
    "locations = {\n",
    "    \"admu\":{\n",
    "        \"name\":\"Ateneo de Manila University\",\n",
    "        \"latitude\":14.6394557,\n",
    "        \"longitude\":121.0758975        \n",
    "    },\n",
    "    \"upd\":{\n",
    "        \"name\":\"University of the Philippines-Diliman Campus\",\n",
    "        \"latitude\":14.6538519,\n",
    "        \"longitude\":121.0663348\n",
    "    },\n",
    "    \"dlsu\":{\n",
    "        \"name\":\"De La Salle University-Taft\",\n",
    "        \"latitude\":14.5647346,\n",
    "        \"longitude\":120.9909876\n",
    "    }\n",
    "}\n",
    "\n",
    "legs = {\n",
    "     (\"upd\",\"admu\"):{\n",
    "         \"travel_time_mins\":10\n",
    "     },\n",
    "     (\"admu\",\"dlsu\"):{\n",
    "         \"travel_time_mins\":35\n",
    "     },\n",
    "     (\"dlsu\",\"upd\"):{\n",
    "         \"travel_time_mins\":55    \n",
    "     },\n",
    "     (\"upd\",\"dlsu\"):{\n",
    "         \"travel_time_mins\":45\n",
    "     },\n",
    "     (\"admu\",\"upd\"):{\n",
    "         \"travel_time_mins\":90\n",
    "     },\n",
    "     (\"dlsu\",\"admu\"):{\n",
    "         \"travel_time_mins\":65\n",
    "     },\n",
    "     (\"upd\",\"upd\"):{\n",
    "         \"travel_time_mins\":100\n",
    "     },\n",
    "     (\"admu\",\"admu\"):{\n",
    "         \"travel_time_mins\":100\n",
    "     },\n",
    "     (\"dlsu\",\"dlsu\"):{\n",
    "         \"travel_time_mins\":100\n",
    "     }\n",
    "}\n",
    "\n",
    "def eta(source,destination):\n",
    "    time = legs[source,destination][\"travel_time_mins\"]\n",
    "    return time\n",
    "    pass"
   ]
  },
  {
   "cell_type": "code",
   "execution_count": 11,
   "metadata": {},
   "outputs": [
    {
     "name": "stdout",
     "output_type": "stream",
     "text": [
      "Enter source: admu\n",
      "Enter destination: upd\n",
      "ETA: 90\n"
     ]
    }
   ],
   "source": [
    "try:\n",
    "    source = input(\"Enter source: \")\n",
    "    destination = input(\"Enter destination: \")\n",
    "    print(\"ETA:\",eta(source, destination))\n",
    "except:\n",
    "    print(\"Invalid input\")"
   ]
  },
  {
   "cell_type": "code",
   "execution_count": null,
   "metadata": {},
   "outputs": [],
   "source": []
  }
 ],
 "metadata": {
  "kernelspec": {
   "display_name": "Python 3",
   "language": "python",
   "name": "python3"
  },
  "language_info": {
   "codemirror_mode": {
    "name": "ipython",
    "version": 3
   },
   "file_extension": ".py",
   "mimetype": "text/x-python",
   "name": "python",
   "nbconvert_exporter": "python",
   "pygments_lexer": "ipython3",
   "version": "3.7.6"
  }
 },
 "nbformat": 4,
 "nbformat_minor": 4
}
