{
 "cells": [
  {
   "cell_type": "markdown",
   "metadata": {},
   "source": [
    "190277\n",
    "Ang\n",
    "2 BS ME"
   ]
  },
  {
   "cell_type": "markdown",
   "metadata": {},
   "source": [
    "**Problem 1**\n",
    "1. Enter amount in USD\n",
    "2. Convert amount to PHP\n",
    "3. Display converted amount"
   ]
  },
  {
   "cell_type": "code",
   "execution_count": 11,
   "metadata": {},
   "outputs": [],
   "source": [
    "def dollars_to_pesos(USD):\n",
    "    PHP = USD*50\n",
    "    return PHP"
   ]
  },
  {
   "cell_type": "code",
   "execution_count": 13,
   "metadata": {},
   "outputs": [
    {
     "name": "stdout",
     "output_type": "stream",
     "text": [
      "Enter amount in US Dollars:10\n",
      "10.0 US Dollar(s) = 500.0 Philippine Pesos\n"
     ]
    }
   ],
   "source": [
    "# Enter amount in USD\n",
    "USD = float(input(\"Enter amount in US Dollars:\"))\n",
    "\n",
    "#Convert amount to PHP\n",
    "PHP = dollars_to_pesos(USD)\n",
    "\n",
    "# Display converted amount\n",
    "print(USD, \"US Dollar(s) =\", PHP, \"Philippine Pesos\")"
   ]
  },
  {
   "cell_type": "markdown",
   "metadata": {},
   "source": [
    "**Problem 2**\n",
    "1. Enter integer a\n",
    "2. Enter integer b\n",
    "3. Sum of a and b\n",
    "4. Difference of a and b\n",
    "5. Product of a and b\n",
    "6. Quotient of a and b without remainder\n",
    "7. Remainder only of a and b\n",
    "8. Display results of 3-7\n"
   ]
  },
  {
   "cell_type": "code",
   "execution_count": 18,
   "metadata": {},
   "outputs": [],
   "source": [
    "def sum_of_2(a,b):\n",
    "    sum = a+b\n",
    "    return sum\n",
    "\n",
    "def difference_of_2(a,b):\n",
    "    difference = a-b\n",
    "    return difference\n",
    "\n",
    "def product_of_2(a,b):\n",
    "    product = a*b\n",
    "    return product\n",
    "\n",
    "def quotient_of_2(a,b):\n",
    "    quotient = a//b\n",
    "    return quotient\n",
    "\n",
    "def remainder_of_2(a,b):\n",
    "    remainder = a%b\n",
    "    return remainder"
   ]
  },
  {
   "cell_type": "code",
   "execution_count": 22,
   "metadata": {},
   "outputs": [
    {
     "name": "stdout",
     "output_type": "stream",
     "text": [
      "a = 55\n",
      "b = 3\n",
      "58.0\n",
      "52.0\n",
      "165.0\n",
      "18.0\n",
      "1.0\n"
     ]
    }
   ],
   "source": [
    "# Enter integer a\n",
    "a = float(input(\"a = \"))\n",
    "a>=0\n",
    "\n",
    "# Enter integer b\n",
    "b = float(input(\"b = \"))\n",
    "b>=0\n",
    "\n",
    "# Sum of a and b\n",
    "sum = sum_of_2(a,b)\n",
    "\n",
    "# Difference of a and b\n",
    "difference = difference_of_2(a,b)\n",
    "\n",
    "# Product of a and b\n",
    "product = product_of_2(a,b)\n",
    "\n",
    "# Quotient of a and b without remainder\n",
    "quotient = quotient_of_2(a,b)\n",
    "\n",
    "# Remainder only of a and b\n",
    "remainder = remainder_of_2(a,b)\n",
    "\n",
    "# Display results of 3-7\n",
    "print(sum)\n",
    "print(difference)\n",
    "print(product)\n",
    "print(quotient)\n",
    "print(remainder)"
   ]
  },
  {
   "cell_type": "markdown",
   "metadata": {},
   "source": [
    "**Problem 3**\n",
    "1. Ask for weight in kg\n",
    "2. Ask for height in cm\n",
    "3. convert cm to m\n",
    "4. Compute for BMI\n",
    "5. Display BMI"
   ]
  },
  {
   "cell_type": "code",
   "execution_count": 29,
   "metadata": {},
   "outputs": [],
   "source": [
    "def convert_cm_to_m(cm):\n",
    "    m = cm/100\n",
    "    return m\n",
    "\n",
    "def compute_bmi(kg, m):\n",
    "    bmi = kg/m**2\n",
    "    return bmi"
   ]
  },
  {
   "cell_type": "code",
   "execution_count": 30,
   "metadata": {},
   "outputs": [
    {
     "name": "stdout",
     "output_type": "stream",
     "text": [
      "Enter kg: 70\n",
      "Enter cm: 170\n",
      "BMI:  24.221453287197235\n"
     ]
    }
   ],
   "source": [
    "# Ask for weight in kg\n",
    "kg = float(input(\"Enter kg: \"))\n",
    "\n",
    "# Ask for height in cm\n",
    "cm = float(input(\"Enter cm: \"))\n",
    "\n",
    "# Convert cm to m\n",
    "m = convert_cm_to_m(cm)\n",
    "\n",
    "#Compute for BMI\n",
    "bmi = compute_bmi(kg, m)\n",
    "\n",
    "# Display BMI\n",
    "print(\"BMI: \", bmi)"
   ]
  },
  {
   "cell_type": "code",
   "execution_count": null,
   "metadata": {},
   "outputs": [],
   "source": []
  }
 ],
 "metadata": {
  "kernelspec": {
   "display_name": "Python 3",
   "language": "python",
   "name": "python3"
  },
  "language_info": {
   "codemirror_mode": {
    "name": "ipython",
    "version": 3
   },
   "file_extension": ".py",
   "mimetype": "text/x-python",
   "name": "python",
   "nbconvert_exporter": "python",
   "pygments_lexer": "ipython3",
   "version": "3.7.6"
  }
 },
 "nbformat": 4,
 "nbformat_minor": 4
}
