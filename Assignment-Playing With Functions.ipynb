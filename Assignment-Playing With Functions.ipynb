{
 "cells": [
  {
   "cell_type": "markdown",
   "metadata": {},
   "source": [
    "## Circle Area\n",
    "Write a function that takes the circumference of a circle as a parameter and returns the area of that circle.\n",
    "\n",
    "Note: Assume the value of pi is 3.1416"
   ]
  },
  {
   "cell_type": "code",
   "execution_count": 1,
   "metadata": {},
   "outputs": [
    {
     "name": "stdout",
     "output_type": "stream",
     "text": [
      "Enter circle circumference: 20\n",
      "Area of a circle with circumference 20.0 is: 31.83091418385536\n"
     ]
    }
   ],
   "source": [
    "def area_of_circle(C):\n",
    "    area = (C**2)/(4*3.1416)\n",
    "    return area\n",
    "\n",
    "C = float(input(\"Enter circle circumference: \"))\n",
    "\n",
    "Area = area_of_circle(C)\n",
    "\n",
    "print(\"Area of a circle with circumference \",C,\" is: \",Area,sep=\"\")"
   ]
  },
  {
   "cell_type": "markdown",
   "metadata": {},
   "source": [
    "## Reverse String\n",
    "Write a function that takes a 5-character string as a parameter and returns the string in reverse order.\n",
    "\n",
    "e.g. reverseString(\"Hello\") -> \"olleH\""
   ]
  },
  {
   "cell_type": "code",
   "execution_count": 2,
   "metadata": {},
   "outputs": [
    {
     "name": "stdout",
     "output_type": "stream",
     "text": [
      "Enter word: GyOzA\n",
      "The reverse of GyOzA is AzOyG\n"
     ]
    }
   ],
   "source": [
    "def string_in_reverse(x):\n",
    "    reverse = x[::-1]\n",
    "    return reverse\n",
    "\n",
    "x = input(\"Enter word: \")\n",
    "if len(x)==5:\n",
    "    Reverse = string_in_reverse(x) \n",
    "    print(\"The reverse of \",x,\" is \",Reverse, sep=\"\")  \n",
    "else:\n",
    "    print(\"Only five letter words accepted\")"
   ]
  },
  {
   "cell_type": "markdown",
   "metadata": {},
   "source": [
    "## Integer Addition\n",
    "Write a function that takes a positive integer as input and returns the sum of all positive integers smaller than and including the number itself.\n",
    "\n",
    "e.g. backAddition(5) -> 1 + 2 + 3 + 4 + 5 -> 15"
   ]
  },
  {
   "cell_type": "code",
   "execution_count": 3,
   "metadata": {},
   "outputs": [
    {
     "name": "stdout",
     "output_type": "stream",
     "text": [
      "Enter input: 6\n",
      "1\n",
      "3\n",
      "6\n",
      "10\n",
      "15\n",
      "21\n"
     ]
    }
   ],
   "source": [
    "def integer_summation(num):\n",
    "    SUM = sum(range(num))\n",
    "    return SUM\n",
    "    \n",
    "x = int(input(\"Enter input: \"))\n",
    "num = 1\n",
    "\n",
    "while (num <= x):\n",
    "    num += 1\n",
    "    SUM = integer_summation(num)\n",
    "\n",
    "    \n",
    "    print(SUM)"
   ]
  },
  {
   "cell_type": "markdown",
   "metadata": {},
   "source": [
    "## Square of Sums\n",
    "\n",
    "Find the difference between the sum of the squares of the first one hundred natural numbers and the square of the sum.\n",
    "\n",
    "Show code that generates the answer."
   ]
  },
  {
   "cell_type": "code",
   "execution_count": 7,
   "metadata": {},
   "outputs": [
    {
     "name": "stdout",
     "output_type": "stream",
     "text": [
      "25502500 - 338350 = 25164150\n"
     ]
    }
   ],
   "source": [
    "# sum of the squares (part 1)\n",
    "def squaresum(n): \n",
    "    x = 0\n",
    "    for i in range(1, n+1) : \n",
    "        x = x + (i * i) \n",
    "    return x \n",
    "\n",
    "n = 100\n",
    "\n",
    "# square of the sums (part 2)\n",
    "y=0\n",
    "while (y <= 100):\n",
    "    y+=1\n",
    "    m = sum(range(y))\n",
    "    h = m**2\n",
    "    \n",
    "    \n",
    "# difference\n",
    "d = h - squaresum(n)\n",
    "    \n",
    "print(h,\" - \",squaresum(n),\" = \",d,sep=\"\")"
   ]
  },
  {
   "cell_type": "markdown",
   "metadata": {},
   "source": [
    "## Point of Sale System\n",
    "Write a function that allows a self-service Point of Sale system to give you the exact change when you pay in cash."
   ]
  },
  {
   "cell_type": "code",
   "execution_count": 15,
   "metadata": {},
   "outputs": [
    {
     "name": "stdout",
     "output_type": "stream",
     "text": [
      "Enter amount to convert: 69\n",
      "0\n",
      "2\n",
      "1\n",
      "1\n",
      "4\n"
     ]
    }
   ],
   "source": [
    "cents = int(input(\"Enter amount to convert: \"))\n",
    "\n",
    "# 100 cents\n",
    "print(cents//100)\n",
    "cents = cents%100\n",
    "\n",
    "# 25 cents\n",
    "print(cents//25)\n",
    "cents = cents%25\n",
    "\n",
    "# 10 cents\n",
    "print(cents//10)\n",
    "cents = cents%10\n",
    "\n",
    "# 5 cents\n",
    "print(cents//5)\n",
    "cents = cents%5\n",
    "\n",
    "# 1 cent\n",
    "print(cents//1)"
   ]
  },
  {
   "cell_type": "code",
   "execution_count": null,
   "metadata": {},
   "outputs": [],
   "source": []
  }
 ],
 "metadata": {
  "kernelspec": {
   "display_name": "Python 3",
   "language": "python",
   "name": "python3"
  },
  "language_info": {
   "codemirror_mode": {
    "name": "ipython",
    "version": 3
   },
   "file_extension": ".py",
   "mimetype": "text/x-python",
   "name": "python",
   "nbconvert_exporter": "python",
   "pygments_lexer": "ipython3",
   "version": "3.7.6"
  }
 },
 "nbformat": 4,
 "nbformat_minor": 4
}
